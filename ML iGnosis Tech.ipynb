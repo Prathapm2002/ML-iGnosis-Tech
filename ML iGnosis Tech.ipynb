{
 "cells": [
  {
   "cell_type": "markdown",
   "id": "6b4f7fff-32d2-4270-9819-050b2909f1c8",
   "metadata": {},
   "source": [
    "## Hiring Task - ML iGnosis Tech \n",
    "`-By Prathap M`"
   ]
  },
  {
   "cell_type": "markdown",
   "id": "fdd61176-879c-46e1-bfd1-c132d47f7070",
   "metadata": {},
   "source": [
    "# **Customer Segmentation & Product Profitability Analysis**\n",
    "\n",
    "## **Welcome to the World of Profitable Customers & Bestselling Products!**\n",
    "\n",
    "### **Background**:  \n",
    "As your favorite data scientist (or at least, I hope I am), I’ve been tasked with helping our **hypothetical** marketing department zero in on **the most profitable customer segments**. After all, why market to *everyone* when you can focus on the ones who will actually help you hit those revenue goals?\n",
    "\n",
    "The goal of this analysis is simple:\n",
    "- **Identify the most profitable customers**: You know, the ones who are ready to buy your products **at full price** (and maybe even ask for more)!\n",
    "- **Find the bestselling products**: Because if you’re going to spend your marketing budget somewhere, it might as well be on things that fly off the shelf, right?\n",
    "\n",
    "### **Objective: What We're Going to Figure Out**\n",
    "\n",
    "1. **Who's the Real MVP?**  \n",
    "   Are our most loyal customers:\n",
    "   - **Married** or **Single**? (No judgment, we love both)\n",
    "   - **Premium Buyers** or **Budget-Conscious Bargain Hunters**?  \n",
    "   - **Working professionals** or **Retirees** living the dream with a lot of free time to shop?\n",
    "\n",
    "2. **Top 3 Most Profitable Products**  \n",
    "   If we had to choose, which three products are your **golden children** that should be featured in every marketing campaign? And why are these products so great?\n",
    "\n",
    "### **Approach: The Magic Behind the Numbers**\n",
    "\n",
    "To help the marketing team (you, yes you) fine-tune their focus, here's what I did:\n",
    "\n",
    "1. **RFM Analysis (Recency, Frequency, Monetary)**  \n",
    "   Because **loyalty** matters! I used the power of Recency, Frequency, and Monetary to find customers who are not only frequent buyers but who **spend like it’s their job**.\n",
    "\n",
    "2. **Product Sales Analysis**  \n",
    "   I looked at all the transactions, and after a few cups of coffee, figured out which products are making us the **most money**.\n",
    "\n",
    "3. **Segmentation**  \n",
    "   Customer segmentation: Breaking down our customers into groups based on their **life stage**, **purchase behavior**, and **how much they love our products**. Some segments love us so much, they’d buy anything we sell!"
   ]
  },
  {
   "cell_type": "markdown",
   "id": "a28f7309-3b88-448b-8f42-c2608b0a8c40",
   "metadata": {},
   "source": [
    "## **1. Data Preprocessing**"
   ]
  },
  {
   "cell_type": "code",
   "execution_count": 15,
   "id": "31502d71-7c6b-48f0-95d2-a4ee8c28c219",
   "metadata": {},
   "outputs": [],
   "source": [
    "import pandas as pd\n",
    "from sklearn.preprocessing import StandardScaler\n",
    "from sklearn.cluster import KMeans\n",
    "import matplotlib.pyplot as plt\n",
    "import seaborn as sns"
   ]
  },
  {
   "cell_type": "code",
   "execution_count": 3,
   "id": "4c7fbdaa-9817-4c8d-9fc7-f244d5bc225f",
   "metadata": {},
   "outputs": [
    {
     "data": {
      "text/html": [
       "<div>\n",
       "<style scoped>\n",
       "    .dataframe tbody tr th:only-of-type {\n",
       "        vertical-align: middle;\n",
       "    }\n",
       "\n",
       "    .dataframe tbody tr th {\n",
       "        vertical-align: top;\n",
       "    }\n",
       "\n",
       "    .dataframe thead th {\n",
       "        text-align: right;\n",
       "    }\n",
       "</style>\n",
       "<table border=\"1\" class=\"dataframe\">\n",
       "  <thead>\n",
       "    <tr style=\"text-align: right;\">\n",
       "      <th></th>\n",
       "      <th>LYLTY_CARD_NBR</th>\n",
       "      <th>LIFESTAGE</th>\n",
       "      <th>PREMIUM_CUSTOMER</th>\n",
       "    </tr>\n",
       "  </thead>\n",
       "  <tbody>\n",
       "    <tr>\n",
       "      <th>0</th>\n",
       "      <td>1000</td>\n",
       "      <td>YOUNG SINGLES/COUPLES</td>\n",
       "      <td>Premium</td>\n",
       "    </tr>\n",
       "    <tr>\n",
       "      <th>1</th>\n",
       "      <td>1002</td>\n",
       "      <td>YOUNG SINGLES/COUPLES</td>\n",
       "      <td>Mainstream</td>\n",
       "    </tr>\n",
       "    <tr>\n",
       "      <th>2</th>\n",
       "      <td>1003</td>\n",
       "      <td>YOUNG FAMILIES</td>\n",
       "      <td>Budget</td>\n",
       "    </tr>\n",
       "    <tr>\n",
       "      <th>3</th>\n",
       "      <td>1004</td>\n",
       "      <td>OLDER SINGLES/COUPLES</td>\n",
       "      <td>Mainstream</td>\n",
       "    </tr>\n",
       "    <tr>\n",
       "      <th>4</th>\n",
       "      <td>1005</td>\n",
       "      <td>MIDAGE SINGLES/COUPLES</td>\n",
       "      <td>Mainstream</td>\n",
       "    </tr>\n",
       "  </tbody>\n",
       "</table>\n",
       "</div>"
      ],
      "text/plain": [
       "   LYLTY_CARD_NBR               LIFESTAGE PREMIUM_CUSTOMER\n",
       "0            1000   YOUNG SINGLES/COUPLES          Premium\n",
       "1            1002   YOUNG SINGLES/COUPLES       Mainstream\n",
       "2            1003          YOUNG FAMILIES           Budget\n",
       "3            1004   OLDER SINGLES/COUPLES       Mainstream\n",
       "4            1005  MIDAGE SINGLES/COUPLES       Mainstream"
      ]
     },
     "execution_count": 3,
     "metadata": {},
     "output_type": "execute_result"
    }
   ],
   "source": [
    "pb= pd.read_csv(r'C:\\Users\\Prathap M\\Downloads\\hiring-task-data-20250203T115149Z-001\\hiring-task-data\\purchase_behaviour.csv')\n",
    "pb.head()"
   ]
  },
  {
   "cell_type": "code",
   "execution_count": 5,
   "id": "86a6e46a-1dab-4677-9ae5-1571b84dfd1e",
   "metadata": {},
   "outputs": [
    {
     "data": {
      "text/html": [
       "<div>\n",
       "<style scoped>\n",
       "    .dataframe tbody tr th:only-of-type {\n",
       "        vertical-align: middle;\n",
       "    }\n",
       "\n",
       "    .dataframe tbody tr th {\n",
       "        vertical-align: top;\n",
       "    }\n",
       "\n",
       "    .dataframe thead th {\n",
       "        text-align: right;\n",
       "    }\n",
       "</style>\n",
       "<table border=\"1\" class=\"dataframe\">\n",
       "  <thead>\n",
       "    <tr style=\"text-align: right;\">\n",
       "      <th></th>\n",
       "      <th>DATE</th>\n",
       "      <th>STORE_NBR</th>\n",
       "      <th>LYLTY_CARD_NBR</th>\n",
       "      <th>TXN_ID</th>\n",
       "      <th>PROD_NBR</th>\n",
       "      <th>PROD_NAME</th>\n",
       "      <th>PROD_QTY</th>\n",
       "      <th>TOT_SALES</th>\n",
       "    </tr>\n",
       "  </thead>\n",
       "  <tbody>\n",
       "    <tr>\n",
       "      <th>0</th>\n",
       "      <td>43390</td>\n",
       "      <td>1</td>\n",
       "      <td>1000</td>\n",
       "      <td>1</td>\n",
       "      <td>5</td>\n",
       "      <td>Natural Chip        Compny SeaSalt175g</td>\n",
       "      <td>2</td>\n",
       "      <td>6.0</td>\n",
       "    </tr>\n",
       "    <tr>\n",
       "      <th>1</th>\n",
       "      <td>43599</td>\n",
       "      <td>1</td>\n",
       "      <td>1307</td>\n",
       "      <td>348</td>\n",
       "      <td>66</td>\n",
       "      <td>CCs Nacho Cheese    175g</td>\n",
       "      <td>3</td>\n",
       "      <td>6.3</td>\n",
       "    </tr>\n",
       "    <tr>\n",
       "      <th>2</th>\n",
       "      <td>43605</td>\n",
       "      <td>1</td>\n",
       "      <td>1343</td>\n",
       "      <td>383</td>\n",
       "      <td>61</td>\n",
       "      <td>Smiths Crinkle Cut  Chips Chicken 170g</td>\n",
       "      <td>2</td>\n",
       "      <td>2.9</td>\n",
       "    </tr>\n",
       "    <tr>\n",
       "      <th>3</th>\n",
       "      <td>43329</td>\n",
       "      <td>2</td>\n",
       "      <td>2373</td>\n",
       "      <td>974</td>\n",
       "      <td>69</td>\n",
       "      <td>Smiths Chip Thinly  S/Cream&amp;Onion 175g</td>\n",
       "      <td>5</td>\n",
       "      <td>15.0</td>\n",
       "    </tr>\n",
       "    <tr>\n",
       "      <th>4</th>\n",
       "      <td>43330</td>\n",
       "      <td>2</td>\n",
       "      <td>2426</td>\n",
       "      <td>1038</td>\n",
       "      <td>108</td>\n",
       "      <td>Kettle Tortilla ChpsHny&amp;Jlpno Chili 150g</td>\n",
       "      <td>3</td>\n",
       "      <td>13.8</td>\n",
       "    </tr>\n",
       "  </tbody>\n",
       "</table>\n",
       "</div>"
      ],
      "text/plain": [
       "    DATE  STORE_NBR  LYLTY_CARD_NBR  TXN_ID  PROD_NBR  \\\n",
       "0  43390          1            1000       1         5   \n",
       "1  43599          1            1307     348        66   \n",
       "2  43605          1            1343     383        61   \n",
       "3  43329          2            2373     974        69   \n",
       "4  43330          2            2426    1038       108   \n",
       "\n",
       "                                  PROD_NAME  PROD_QTY  TOT_SALES  \n",
       "0    Natural Chip        Compny SeaSalt175g         2        6.0  \n",
       "1                  CCs Nacho Cheese    175g         3        6.3  \n",
       "2    Smiths Crinkle Cut  Chips Chicken 170g         2        2.9  \n",
       "3    Smiths Chip Thinly  S/Cream&Onion 175g         5       15.0  \n",
       "4  Kettle Tortilla ChpsHny&Jlpno Chili 150g         3       13.8  "
      ]
     },
     "execution_count": 5,
     "metadata": {},
     "output_type": "execute_result"
    }
   ],
   "source": [
    "td = pd.read_csv(r\"C:\\Users\\Prathap M\\Downloads\\hiring-task-data-20250203T115149Z-001\\hiring-task-data\\transaction_data.csv\")\n",
    "td.head()"
   ]
  },
  {
   "cell_type": "code",
   "execution_count": 7,
   "id": "11caf765-3bbf-4ed0-b23c-576d8c6b9f12",
   "metadata": {},
   "outputs": [
    {
     "data": {
      "text/html": [
       "<div>\n",
       "<style scoped>\n",
       "    .dataframe tbody tr th:only-of-type {\n",
       "        vertical-align: middle;\n",
       "    }\n",
       "\n",
       "    .dataframe tbody tr th {\n",
       "        vertical-align: top;\n",
       "    }\n",
       "\n",
       "    .dataframe thead th {\n",
       "        text-align: right;\n",
       "    }\n",
       "</style>\n",
       "<table border=\"1\" class=\"dataframe\">\n",
       "  <thead>\n",
       "    <tr style=\"text-align: right;\">\n",
       "      <th></th>\n",
       "      <th>LYLTY_CARD_NBR</th>\n",
       "      <th>LIFESTAGE</th>\n",
       "      <th>PREMIUM_CUSTOMER</th>\n",
       "      <th>DATE</th>\n",
       "      <th>STORE_NBR</th>\n",
       "      <th>TXN_ID</th>\n",
       "      <th>PROD_NBR</th>\n",
       "      <th>PROD_NAME</th>\n",
       "      <th>PROD_QTY</th>\n",
       "      <th>TOT_SALES</th>\n",
       "    </tr>\n",
       "  </thead>\n",
       "  <tbody>\n",
       "    <tr>\n",
       "      <th>0</th>\n",
       "      <td>1000</td>\n",
       "      <td>YOUNG SINGLES/COUPLES</td>\n",
       "      <td>Premium</td>\n",
       "      <td>43390</td>\n",
       "      <td>1</td>\n",
       "      <td>1</td>\n",
       "      <td>5</td>\n",
       "      <td>Natural Chip        Compny SeaSalt175g</td>\n",
       "      <td>2</td>\n",
       "      <td>6.0</td>\n",
       "    </tr>\n",
       "    <tr>\n",
       "      <th>1</th>\n",
       "      <td>1002</td>\n",
       "      <td>YOUNG SINGLES/COUPLES</td>\n",
       "      <td>Mainstream</td>\n",
       "      <td>43359</td>\n",
       "      <td>1</td>\n",
       "      <td>2</td>\n",
       "      <td>58</td>\n",
       "      <td>Red Rock Deli Chikn&amp;Garlic Aioli 150g</td>\n",
       "      <td>1</td>\n",
       "      <td>2.7</td>\n",
       "    </tr>\n",
       "    <tr>\n",
       "      <th>2</th>\n",
       "      <td>1003</td>\n",
       "      <td>YOUNG FAMILIES</td>\n",
       "      <td>Budget</td>\n",
       "      <td>43531</td>\n",
       "      <td>1</td>\n",
       "      <td>3</td>\n",
       "      <td>52</td>\n",
       "      <td>Grain Waves Sour    Cream&amp;Chives 210G</td>\n",
       "      <td>1</td>\n",
       "      <td>3.6</td>\n",
       "    </tr>\n",
       "    <tr>\n",
       "      <th>3</th>\n",
       "      <td>1003</td>\n",
       "      <td>YOUNG FAMILIES</td>\n",
       "      <td>Budget</td>\n",
       "      <td>43532</td>\n",
       "      <td>1</td>\n",
       "      <td>4</td>\n",
       "      <td>106</td>\n",
       "      <td>Natural ChipCo      Hony Soy Chckn175g</td>\n",
       "      <td>1</td>\n",
       "      <td>3.0</td>\n",
       "    </tr>\n",
       "    <tr>\n",
       "      <th>4</th>\n",
       "      <td>1004</td>\n",
       "      <td>OLDER SINGLES/COUPLES</td>\n",
       "      <td>Mainstream</td>\n",
       "      <td>43406</td>\n",
       "      <td>1</td>\n",
       "      <td>5</td>\n",
       "      <td>96</td>\n",
       "      <td>WW Original Stacked Chips 160g</td>\n",
       "      <td>1</td>\n",
       "      <td>1.9</td>\n",
       "    </tr>\n",
       "  </tbody>\n",
       "</table>\n",
       "</div>"
      ],
      "text/plain": [
       "   LYLTY_CARD_NBR              LIFESTAGE PREMIUM_CUSTOMER   DATE  STORE_NBR  \\\n",
       "0            1000  YOUNG SINGLES/COUPLES          Premium  43390          1   \n",
       "1            1002  YOUNG SINGLES/COUPLES       Mainstream  43359          1   \n",
       "2            1003         YOUNG FAMILIES           Budget  43531          1   \n",
       "3            1003         YOUNG FAMILIES           Budget  43532          1   \n",
       "4            1004  OLDER SINGLES/COUPLES       Mainstream  43406          1   \n",
       "\n",
       "   TXN_ID  PROD_NBR                               PROD_NAME  PROD_QTY  \\\n",
       "0       1         5  Natural Chip        Compny SeaSalt175g         2   \n",
       "1       2        58   Red Rock Deli Chikn&Garlic Aioli 150g         1   \n",
       "2       3        52   Grain Waves Sour    Cream&Chives 210G         1   \n",
       "3       4       106  Natural ChipCo      Hony Soy Chckn175g         1   \n",
       "4       5        96          WW Original Stacked Chips 160g         1   \n",
       "\n",
       "   TOT_SALES  \n",
       "0        6.0  \n",
       "1        2.7  \n",
       "2        3.6  \n",
       "3        3.0  \n",
       "4        1.9  "
      ]
     },
     "execution_count": 7,
     "metadata": {},
     "output_type": "execute_result"
    }
   ],
   "source": [
    "df = pd.merge(pb,td,on = 'LYLTY_CARD_NBR',how ='inner')\n",
    "df.head()"
   ]
  },
  {
   "cell_type": "code",
   "execution_count": 9,
   "id": "2f073343-fd82-4670-abe7-7782a9d215d5",
   "metadata": {},
   "outputs": [
    {
     "data": {
      "text/plain": [
       "LYLTY_CARD_NBR      0\n",
       "LIFESTAGE           0\n",
       "PREMIUM_CUSTOMER    0\n",
       "DATE                0\n",
       "STORE_NBR           0\n",
       "TXN_ID              0\n",
       "PROD_NBR            0\n",
       "PROD_NAME           0\n",
       "PROD_QTY            0\n",
       "TOT_SALES           0\n",
       "dtype: int64"
      ]
     },
     "execution_count": 9,
     "metadata": {},
     "output_type": "execute_result"
    }
   ],
   "source": [
    "df.isna().sum()"
   ]
  },
  {
   "cell_type": "markdown",
   "id": "8d378ada-bcb9-40d7-9965-b2ad2d44c441",
   "metadata": {},
   "source": [
    "## **2.Profitability Analysis**"
   ]
  },
  {
   "cell_type": "markdown",
   "id": "e0d5128b-a5b8-4f9e-b3b7-e3680578d27d",
   "metadata": {},
   "source": [
    "## Understanding the Top 3 Most Profitable Products"
   ]
  },
  {
   "cell_type": "code",
   "execution_count": 126,
   "id": "585b8fe5-516a-4e46-ba8c-a8a07fd3c7c7",
   "metadata": {},
   "outputs": [
    {
     "data": {
      "application/vnd.plotly.v1+json": {
       "config": {
        "plotlyServerURL": "https://plot.ly"
       },
       "data": [
        {
         "alignmentgroup": "True",
         "hoverinfo": "x+y",
         "hovertemplate": "Product Name=%{x}<br>Total Sales=%{text}<extra></extra>",
         "legendgroup": "Dorito Corn Chp     Supreme 380g",
         "marker": {
          "color": "#636efa",
          "pattern": {
           "shape": ""
          }
         },
         "name": "Dorito Corn Chp     Supreme 380g",
         "offsetgroup": "Dorito Corn Chp     Supreme 380g",
         "orientation": "v",
         "showlegend": true,
         "text": [
          40352
         ],
         "textposition": "outside",
         "texttemplate": "%{text:.2s}",
         "type": "bar",
         "x": [
          "Dorito Corn Chp     Supreme 380g"
         ],
         "xaxis": "x",
         "y": [
          40352
         ],
         "yaxis": "y"
        },
        {
         "alignmentgroup": "True",
         "hoverinfo": "x+y",
         "hovertemplate": "Product Name=%{x}<br>Total Sales=%{text}<extra></extra>",
         "legendgroup": "Smiths Crnkle Chip  Orgnl Big Bag 380g",
         "marker": {
          "color": "#EF553B",
          "pattern": {
           "shape": ""
          }
         },
         "name": "Smiths Crnkle Chip  Orgnl Big Bag 380g",
         "offsetgroup": "Smiths Crnkle Chip  Orgnl Big Bag 380g",
         "orientation": "v",
         "showlegend": true,
         "text": [
          36367.6
         ],
         "textposition": "outside",
         "texttemplate": "%{text:.2s}",
         "type": "bar",
         "x": [
          "Smiths Crnkle Chip  Orgnl Big Bag 380g"
         ],
         "xaxis": "x",
         "y": [
          36367.6
         ],
         "yaxis": "y"
        },
        {
         "alignmentgroup": "True",
         "hoverinfo": "x+y",
         "hovertemplate": "Product Name=%{x}<br>Total Sales=%{text}<extra></extra>",
         "legendgroup": "Smiths Crinkle Chips Salt & Vinegar 330g",
         "marker": {
          "color": "#00cc96",
          "pattern": {
           "shape": ""
          }
         },
         "name": "Smiths Crinkle Chips Salt & Vinegar 330g",
         "offsetgroup": "Smiths Crinkle Chips Salt & Vinegar 330g",
         "orientation": "v",
         "showlegend": true,
         "text": [
          34804.200000000004
         ],
         "textposition": "outside",
         "texttemplate": "%{text:.2s}",
         "type": "bar",
         "x": [
          "Smiths Crinkle Chips Salt & Vinegar 330g"
         ],
         "xaxis": "x",
         "y": [
          34804.200000000004
         ],
         "yaxis": "y"
        }
       ],
       "layout": {
        "autosize": true,
        "barmode": "relative",
        "hovermode": "x unified",
        "legend": {
         "title": {
          "text": "Product Name"
         },
         "tracegroupgap": 0
        },
        "showlegend": false,
        "template": {
         "data": {
          "bar": [
           {
            "error_x": {
             "color": "#f2f5fa"
            },
            "error_y": {
             "color": "#f2f5fa"
            },
            "marker": {
             "line": {
              "color": "rgb(17,17,17)",
              "width": 0.5
             },
             "pattern": {
              "fillmode": "overlay",
              "size": 10,
              "solidity": 0.2
             }
            },
            "type": "bar"
           }
          ],
          "barpolar": [
           {
            "marker": {
             "line": {
              "color": "rgb(17,17,17)",
              "width": 0.5
             },
             "pattern": {
              "fillmode": "overlay",
              "size": 10,
              "solidity": 0.2
             }
            },
            "type": "barpolar"
           }
          ],
          "carpet": [
           {
            "aaxis": {
             "endlinecolor": "#A2B1C6",
             "gridcolor": "#506784",
             "linecolor": "#506784",
             "minorgridcolor": "#506784",
             "startlinecolor": "#A2B1C6"
            },
            "baxis": {
             "endlinecolor": "#A2B1C6",
             "gridcolor": "#506784",
             "linecolor": "#506784",
             "minorgridcolor": "#506784",
             "startlinecolor": "#A2B1C6"
            },
            "type": "carpet"
           }
          ],
          "choropleth": [
           {
            "colorbar": {
             "outlinewidth": 0,
             "ticks": ""
            },
            "type": "choropleth"
           }
          ],
          "contour": [
           {
            "colorbar": {
             "outlinewidth": 0,
             "ticks": ""
            },
            "colorscale": [
             [
              0,
              "#0d0887"
             ],
             [
              0.1111111111111111,
              "#46039f"
             ],
             [
              0.2222222222222222,
              "#7201a8"
             ],
             [
              0.3333333333333333,
              "#9c179e"
             ],
             [
              0.4444444444444444,
              "#bd3786"
             ],
             [
              0.5555555555555556,
              "#d8576b"
             ],
             [
              0.6666666666666666,
              "#ed7953"
             ],
             [
              0.7777777777777778,
              "#fb9f3a"
             ],
             [
              0.8888888888888888,
              "#fdca26"
             ],
             [
              1,
              "#f0f921"
             ]
            ],
            "type": "contour"
           }
          ],
          "contourcarpet": [
           {
            "colorbar": {
             "outlinewidth": 0,
             "ticks": ""
            },
            "type": "contourcarpet"
           }
          ],
          "heatmap": [
           {
            "colorbar": {
             "outlinewidth": 0,
             "ticks": ""
            },
            "colorscale": [
             [
              0,
              "#0d0887"
             ],
             [
              0.1111111111111111,
              "#46039f"
             ],
             [
              0.2222222222222222,
              "#7201a8"
             ],
             [
              0.3333333333333333,
              "#9c179e"
             ],
             [
              0.4444444444444444,
              "#bd3786"
             ],
             [
              0.5555555555555556,
              "#d8576b"
             ],
             [
              0.6666666666666666,
              "#ed7953"
             ],
             [
              0.7777777777777778,
              "#fb9f3a"
             ],
             [
              0.8888888888888888,
              "#fdca26"
             ],
             [
              1,
              "#f0f921"
             ]
            ],
            "type": "heatmap"
           }
          ],
          "heatmapgl": [
           {
            "colorbar": {
             "outlinewidth": 0,
             "ticks": ""
            },
            "colorscale": [
             [
              0,
              "#0d0887"
             ],
             [
              0.1111111111111111,
              "#46039f"
             ],
             [
              0.2222222222222222,
              "#7201a8"
             ],
             [
              0.3333333333333333,
              "#9c179e"
             ],
             [
              0.4444444444444444,
              "#bd3786"
             ],
             [
              0.5555555555555556,
              "#d8576b"
             ],
             [
              0.6666666666666666,
              "#ed7953"
             ],
             [
              0.7777777777777778,
              "#fb9f3a"
             ],
             [
              0.8888888888888888,
              "#fdca26"
             ],
             [
              1,
              "#f0f921"
             ]
            ],
            "type": "heatmapgl"
           }
          ],
          "histogram": [
           {
            "marker": {
             "pattern": {
              "fillmode": "overlay",
              "size": 10,
              "solidity": 0.2
             }
            },
            "type": "histogram"
           }
          ],
          "histogram2d": [
           {
            "colorbar": {
             "outlinewidth": 0,
             "ticks": ""
            },
            "colorscale": [
             [
              0,
              "#0d0887"
             ],
             [
              0.1111111111111111,
              "#46039f"
             ],
             [
              0.2222222222222222,
              "#7201a8"
             ],
             [
              0.3333333333333333,
              "#9c179e"
             ],
             [
              0.4444444444444444,
              "#bd3786"
             ],
             [
              0.5555555555555556,
              "#d8576b"
             ],
             [
              0.6666666666666666,
              "#ed7953"
             ],
             [
              0.7777777777777778,
              "#fb9f3a"
             ],
             [
              0.8888888888888888,
              "#fdca26"
             ],
             [
              1,
              "#f0f921"
             ]
            ],
            "type": "histogram2d"
           }
          ],
          "histogram2dcontour": [
           {
            "colorbar": {
             "outlinewidth": 0,
             "ticks": ""
            },
            "colorscale": [
             [
              0,
              "#0d0887"
             ],
             [
              0.1111111111111111,
              "#46039f"
             ],
             [
              0.2222222222222222,
              "#7201a8"
             ],
             [
              0.3333333333333333,
              "#9c179e"
             ],
             [
              0.4444444444444444,
              "#bd3786"
             ],
             [
              0.5555555555555556,
              "#d8576b"
             ],
             [
              0.6666666666666666,
              "#ed7953"
             ],
             [
              0.7777777777777778,
              "#fb9f3a"
             ],
             [
              0.8888888888888888,
              "#fdca26"
             ],
             [
              1,
              "#f0f921"
             ]
            ],
            "type": "histogram2dcontour"
           }
          ],
          "mesh3d": [
           {
            "colorbar": {
             "outlinewidth": 0,
             "ticks": ""
            },
            "type": "mesh3d"
           }
          ],
          "parcoords": [
           {
            "line": {
             "colorbar": {
              "outlinewidth": 0,
              "ticks": ""
             }
            },
            "type": "parcoords"
           }
          ],
          "pie": [
           {
            "automargin": true,
            "type": "pie"
           }
          ],
          "scatter": [
           {
            "marker": {
             "line": {
              "color": "#283442"
             }
            },
            "type": "scatter"
           }
          ],
          "scatter3d": [
           {
            "line": {
             "colorbar": {
              "outlinewidth": 0,
              "ticks": ""
             }
            },
            "marker": {
             "colorbar": {
              "outlinewidth": 0,
              "ticks": ""
             }
            },
            "type": "scatter3d"
           }
          ],
          "scattercarpet": [
           {
            "marker": {
             "colorbar": {
              "outlinewidth": 0,
              "ticks": ""
             }
            },
            "type": "scattercarpet"
           }
          ],
          "scattergeo": [
           {
            "marker": {
             "colorbar": {
              "outlinewidth": 0,
              "ticks": ""
             }
            },
            "type": "scattergeo"
           }
          ],
          "scattergl": [
           {
            "marker": {
             "line": {
              "color": "#283442"
             }
            },
            "type": "scattergl"
           }
          ],
          "scattermapbox": [
           {
            "marker": {
             "colorbar": {
              "outlinewidth": 0,
              "ticks": ""
             }
            },
            "type": "scattermapbox"
           }
          ],
          "scatterpolar": [
           {
            "marker": {
             "colorbar": {
              "outlinewidth": 0,
              "ticks": ""
             }
            },
            "type": "scatterpolar"
           }
          ],
          "scatterpolargl": [
           {
            "marker": {
             "colorbar": {
              "outlinewidth": 0,
              "ticks": ""
             }
            },
            "type": "scatterpolargl"
           }
          ],
          "scatterternary": [
           {
            "marker": {
             "colorbar": {
              "outlinewidth": 0,
              "ticks": ""
             }
            },
            "type": "scatterternary"
           }
          ],
          "surface": [
           {
            "colorbar": {
             "outlinewidth": 0,
             "ticks": ""
            },
            "colorscale": [
             [
              0,
              "#0d0887"
             ],
             [
              0.1111111111111111,
              "#46039f"
             ],
             [
              0.2222222222222222,
              "#7201a8"
             ],
             [
              0.3333333333333333,
              "#9c179e"
             ],
             [
              0.4444444444444444,
              "#bd3786"
             ],
             [
              0.5555555555555556,
              "#d8576b"
             ],
             [
              0.6666666666666666,
              "#ed7953"
             ],
             [
              0.7777777777777778,
              "#fb9f3a"
             ],
             [
              0.8888888888888888,
              "#fdca26"
             ],
             [
              1,
              "#f0f921"
             ]
            ],
            "type": "surface"
           }
          ],
          "table": [
           {
            "cells": {
             "fill": {
              "color": "#506784"
             },
             "line": {
              "color": "rgb(17,17,17)"
             }
            },
            "header": {
             "fill": {
              "color": "#2a3f5f"
             },
             "line": {
              "color": "rgb(17,17,17)"
             }
            },
            "type": "table"
           }
          ]
         },
         "layout": {
          "annotationdefaults": {
           "arrowcolor": "#f2f5fa",
           "arrowhead": 0,
           "arrowwidth": 1
          },
          "autotypenumbers": "strict",
          "coloraxis": {
           "colorbar": {
            "outlinewidth": 0,
            "ticks": ""
           }
          },
          "colorscale": {
           "diverging": [
            [
             0,
             "#8e0152"
            ],
            [
             0.1,
             "#c51b7d"
            ],
            [
             0.2,
             "#de77ae"
            ],
            [
             0.3,
             "#f1b6da"
            ],
            [
             0.4,
             "#fde0ef"
            ],
            [
             0.5,
             "#f7f7f7"
            ],
            [
             0.6,
             "#e6f5d0"
            ],
            [
             0.7,
             "#b8e186"
            ],
            [
             0.8,
             "#7fbc41"
            ],
            [
             0.9,
             "#4d9221"
            ],
            [
             1,
             "#276419"
            ]
           ],
           "sequential": [
            [
             0,
             "#0d0887"
            ],
            [
             0.1111111111111111,
             "#46039f"
            ],
            [
             0.2222222222222222,
             "#7201a8"
            ],
            [
             0.3333333333333333,
             "#9c179e"
            ],
            [
             0.4444444444444444,
             "#bd3786"
            ],
            [
             0.5555555555555556,
             "#d8576b"
            ],
            [
             0.6666666666666666,
             "#ed7953"
            ],
            [
             0.7777777777777778,
             "#fb9f3a"
            ],
            [
             0.8888888888888888,
             "#fdca26"
            ],
            [
             1,
             "#f0f921"
            ]
           ],
           "sequentialminus": [
            [
             0,
             "#0d0887"
            ],
            [
             0.1111111111111111,
             "#46039f"
            ],
            [
             0.2222222222222222,
             "#7201a8"
            ],
            [
             0.3333333333333333,
             "#9c179e"
            ],
            [
             0.4444444444444444,
             "#bd3786"
            ],
            [
             0.5555555555555556,
             "#d8576b"
            ],
            [
             0.6666666666666666,
             "#ed7953"
            ],
            [
             0.7777777777777778,
             "#fb9f3a"
            ],
            [
             0.8888888888888888,
             "#fdca26"
            ],
            [
             1,
             "#f0f921"
            ]
           ]
          },
          "colorway": [
           "#636efa",
           "#EF553B",
           "#00cc96",
           "#ab63fa",
           "#FFA15A",
           "#19d3f3",
           "#FF6692",
           "#B6E880",
           "#FF97FF",
           "#FECB52"
          ],
          "font": {
           "color": "#f2f5fa"
          },
          "geo": {
           "bgcolor": "rgb(17,17,17)",
           "lakecolor": "rgb(17,17,17)",
           "landcolor": "rgb(17,17,17)",
           "showlakes": true,
           "showland": true,
           "subunitcolor": "#506784"
          },
          "hoverlabel": {
           "align": "left"
          },
          "hovermode": "closest",
          "mapbox": {
           "style": "dark"
          },
          "paper_bgcolor": "rgb(17,17,17)",
          "plot_bgcolor": "rgb(17,17,17)",
          "polar": {
           "angularaxis": {
            "gridcolor": "#506784",
            "linecolor": "#506784",
            "ticks": ""
           },
           "bgcolor": "rgb(17,17,17)",
           "radialaxis": {
            "gridcolor": "#506784",
            "linecolor": "#506784",
            "ticks": ""
           }
          },
          "scene": {
           "xaxis": {
            "backgroundcolor": "rgb(17,17,17)",
            "gridcolor": "#506784",
            "gridwidth": 2,
            "linecolor": "#506784",
            "showbackground": true,
            "ticks": "",
            "zerolinecolor": "#C8D4E3"
           },
           "yaxis": {
            "backgroundcolor": "rgb(17,17,17)",
            "gridcolor": "#506784",
            "gridwidth": 2,
            "linecolor": "#506784",
            "showbackground": true,
            "ticks": "",
            "zerolinecolor": "#C8D4E3"
           },
           "zaxis": {
            "backgroundcolor": "rgb(17,17,17)",
            "gridcolor": "#506784",
            "gridwidth": 2,
            "linecolor": "#506784",
            "showbackground": true,
            "ticks": "",
            "zerolinecolor": "#C8D4E3"
           }
          },
          "shapedefaults": {
           "line": {
            "color": "#f2f5fa"
           }
          },
          "sliderdefaults": {
           "bgcolor": "#C8D4E3",
           "bordercolor": "rgb(17,17,17)",
           "borderwidth": 1,
           "tickwidth": 0
          },
          "ternary": {
           "aaxis": {
            "gridcolor": "#506784",
            "linecolor": "#506784",
            "ticks": ""
           },
           "baxis": {
            "gridcolor": "#506784",
            "linecolor": "#506784",
            "ticks": ""
           },
           "bgcolor": "rgb(17,17,17)",
           "caxis": {
            "gridcolor": "#506784",
            "linecolor": "#506784",
            "ticks": ""
           }
          },
          "title": {
           "x": 0.05
          },
          "updatemenudefaults": {
           "bgcolor": "#506784",
           "borderwidth": 0
          },
          "xaxis": {
           "automargin": true,
           "gridcolor": "#283442",
           "linecolor": "#506784",
           "ticks": "",
           "title": {
            "standoff": 15
           },
           "zerolinecolor": "#283442",
           "zerolinewidth": 2
          },
          "yaxis": {
           "automargin": true,
           "gridcolor": "#283442",
           "linecolor": "#506784",
           "ticks": "",
           "title": {
            "standoff": 15
           },
           "zerolinecolor": "#283442",
           "zerolinewidth": 2
          }
         }
        },
        "title": {
         "text": "Top 3 Most Profitable Products"
        },
        "xaxis": {
         "anchor": "y",
         "autorange": true,
         "categoryarray": [
          "Dorito Corn Chp     Supreme 380g",
          "Smiths Crnkle Chip  Orgnl Big Bag 380g",
          "Smiths Crinkle Chips Salt & Vinegar 330g"
         ],
         "categoryorder": "array",
         "domain": [
          0,
          1
         ],
         "range": [
          -0.5,
          2.5
         ],
         "title": {
          "text": "Product Name"
         },
         "type": "category"
        },
        "yaxis": {
         "anchor": "x",
         "autorange": true,
         "domain": [
          0,
          1
         ],
         "range": [
          0,
          42475.78947368421
         ],
         "title": {
          "text": "Total Sales"
         },
         "type": "linear"
        }
       }
      },
      "image/png": "[encoded data removed]",
      "text/html": [
       "<div>                            <div id=\"7fdcc657-b3a9-4d85-bfa8-283479026bc9\" class=\"plotly-graph-div\" style=\"height:525px; width:100%;\"></div>            <script type=\"text/javascript\">                require([\"plotly\"], function(Plotly) {                    window.PLOTLYENV=window.PLOTLYENV || {};                                    if (document.getElementById(\"7fdcc657-b3a9-4d85-bfa8-283479026bc9\")) {                    Plotly.newPlot(                        \"7fdcc657-b3a9-4d85-bfa8-283479026bc9\",                        [{\"alignmentgroup\":\"True\",\"hovertemplate\":\"Product Name=%{x}\\u003cbr\\u003eTotal Sales=%{text}\\u003cextra\\u003e\\u003c\\u002fextra\\u003e\",\"legendgroup\":\"Dorito Corn Chp     Supreme 380g\",\"marker\":{\"color\":\"#636efa\",\"pattern\":{\"shape\":\"\"}},\"name\":\"Dorito Corn Chp     Supreme 380g\",\"offsetgroup\":\"Dorito Corn Chp     Supreme 380g\",\"orientation\":\"v\",\"showlegend\":true,\"text\":[40352.0],\"textposition\":\"outside\",\"x\":[\"Dorito Corn Chp     Supreme 380g\"],\"xaxis\":\"x\",\"y\":[40352.0],\"yaxis\":\"y\",\"type\":\"bar\",\"hoverinfo\":\"x+y\",\"texttemplate\":\"%{text:.2s}\"},{\"alignmentgroup\":\"True\",\"hovertemplate\":\"Product Name=%{x}\\u003cbr\\u003eTotal Sales=%{text}\\u003cextra\\u003e\\u003c\\u002fextra\\u003e\",\"legendgroup\":\"Smiths Crnkle Chip  Orgnl Big Bag 380g\",\"marker\":{\"color\":\"#EF553B\",\"pattern\":{\"shape\":\"\"}},\"name\":\"Smiths Crnkle Chip  Orgnl Big Bag 380g\",\"offsetgroup\":\"Smiths Crnkle Chip  Orgnl Big Bag 380g\",\"orientation\":\"v\",\"showlegend\":true,\"text\":[36367.6],\"textposition\":\"outside\",\"x\":[\"Smiths Crnkle Chip  Orgnl Big Bag 380g\"],\"xaxis\":\"x\",\"y\":[36367.6],\"yaxis\":\"y\",\"type\":\"bar\",\"hoverinfo\":\"x+y\",\"texttemplate\":\"%{text:.2s}\"},{\"alignmentgroup\":\"True\",\"hovertemplate\":\"Product Name=%{x}\\u003cbr\\u003eTotal Sales=%{text}\\u003cextra\\u003e\\u003c\\u002fextra\\u003e\",\"legendgroup\":\"Smiths Crinkle Chips Salt & Vinegar 330g\",\"marker\":{\"color\":\"#00cc96\",\"pattern\":{\"shape\":\"\"}},\"name\":\"Smiths Crinkle Chips Salt & Vinegar 330g\",\"offsetgroup\":\"Smiths Crinkle Chips Salt & Vinegar 330g\",\"orientation\":\"v\",\"showlegend\":true,\"text\":[34804.200000000004],\"textposition\":\"outside\",\"x\":[\"Smiths Crinkle Chips Salt & Vinegar 330g\"],\"xaxis\":\"x\",\"y\":[34804.200000000004],\"yaxis\":\"y\",\"type\":\"bar\",\"hoverinfo\":\"x+y\",\"texttemplate\":\"%{text:.2s}\"}],                        {\"template\":{\"data\":{\"barpolar\":[{\"marker\":{\"line\":{\"color\":\"rgb(17,17,17)\",\"width\":0.5},\"pattern\":{\"fillmode\":\"overlay\",\"size\":10,\"solidity\":0.2}},\"type\":\"barpolar\"}],\"bar\":[{\"error_x\":{\"color\":\"#f2f5fa\"},\"error_y\":{\"color\":\"#f2f5fa\"},\"marker\":{\"line\":{\"color\":\"rgb(17,17,17)\",\"width\":0.5},\"pattern\":{\"fillmode\":\"overlay\",\"size\":10,\"solidity\":0.2}},\"type\":\"bar\"}],\"carpet\":[{\"aaxis\":{\"endlinecolor\":\"#A2B1C6\",\"gridcolor\":\"#506784\",\"linecolor\":\"#506784\",\"minorgridcolor\":\"#506784\",\"startlinecolor\":\"#A2B1C6\"},\"baxis\":{\"endlinecolor\":\"#A2B1C6\",\"gridcolor\":\"#506784\",\"linecolor\":\"#506784\",\"minorgridcolor\":\"#506784\",\"startlinecolor\":\"#A2B1C6\"},\"type\":\"carpet\"}],\"choropleth\":[{\"colorbar\":{\"outlinewidth\":0,\"ticks\":\"\"},\"type\":\"choropleth\"}],\"contourcarpet\":[{\"colorbar\":{\"outlinewidth\":0,\"ticks\":\"\"},\"type\":\"contourcarpet\"}],\"contour\":[{\"colorbar\":{\"outlinewidth\":0,\"ticks\":\"\"},\"colorscale\":[[0.0,\"#0d0887\"],[0.1111111111111111,\"#46039f\"],[0.2222222222222222,\"#7201a8\"],[0.3333333333333333,\"#9c179e\"],[0.4444444444444444,\"#bd3786\"],[0.5555555555555556,\"#d8576b\"],[0.6666666666666666,\"#ed7953\"],[0.7777777777777778,\"#fb9f3a\"],[0.8888888888888888,\"#fdca26\"],[1.0,\"#f0f921\"]],\"type\":\"contour\"}],\"heatmapgl\":[{\"colorbar\":{\"outlinewidth\":0,\"ticks\":\"\"},\"colorscale\":[[0.0,\"#0d0887\"],[0.1111111111111111,\"#46039f\"],[0.2222222222222222,\"#7201a8\"],[0.3333333333333333,\"#9c179e\"],[0.4444444444444444,\"#bd3786\"],[0.5555555555555556,\"#d8576b\"],[0.6666666666666666,\"#ed7953\"],[0.7777777777777778,\"#fb9f3a\"],[0.8888888888888888,\"#fdca26\"],[1.0,\"#f0f921\"]],\"type\":\"heatmapgl\"}],\"heatmap\":[{\"colorbar\":{\"outlinewidth\":0,\"ticks\":\"\"},\"colorscale\":[[0.0,\"#0d0887\"],[0.1111111111111111,\"#46039f\"],[0.2222222222222222,\"#7201a8\"],[0.3333333333333333,\"#9c179e\"],[0.4444444444444444,\"#bd3786\"],[0.5555555555555556,\"#d8576b\"],[0.6666666666666666,\"#ed7953\"],[0.7777777777777778,\"#fb9f3a\"],[0.8888888888888888,\"#fdca26\"],[1.0,\"#f0f921\"]],\"type\":\"heatmap\"}],\"histogram2dcontour\":[{\"colorbar\":{\"outlinewidth\":0,\"ticks\":\"\"},\"colorscale\":[[0.0,\"#0d0887\"],[0.1111111111111111,\"#46039f\"],[0.2222222222222222,\"#7201a8\"],[0.3333333333333333,\"#9c179e\"],[0.4444444444444444,\"#bd3786\"],[0.5555555555555556,\"#d8576b\"],[0.6666666666666666,\"#ed7953\"],[0.7777777777777778,\"#fb9f3a\"],[0.8888888888888888,\"#fdca26\"],[1.0,\"#f0f921\"]],\"type\":\"histogram2dcontour\"}],\"histogram2d\":[{\"colorbar\":{\"outlinewidth\":0,\"ticks\":\"\"},\"colorscale\":[[0.0,\"#0d0887\"],[0.1111111111111111,\"#46039f\"],[0.2222222222222222,\"#7201a8\"],[0.3333333333333333,\"#9c179e\"],[0.4444444444444444,\"#bd3786\"],[0.5555555555555556,\"#d8576b\"],[0.6666666666666666,\"#ed7953\"],[0.7777777777777778,\"#fb9f3a\"],[0.8888888888888888,\"#fdca26\"],[1.0,\"#f0f921\"]],\"type\":\"histogram2d\"}],\"histogram\":[{\"marker\":{\"pattern\":{\"fillmode\":\"overlay\",\"size\":10,\"solidity\":0.2}},\"type\":\"histogram\"}],\"mesh3d\":[{\"colorbar\":{\"outlinewidth\":0,\"ticks\":\"\"},\"type\":\"mesh3d\"}],\"parcoords\":[{\"line\":{\"colorbar\":{\"outlinewidth\":0,\"ticks\":\"\"}},\"type\":\"parcoords\"}],\"pie\":[{\"automargin\":true,\"type\":\"pie\"}],\"scatter3d\":[{\"line\":{\"colorbar\":{\"outlinewidth\":0,\"ticks\":\"\"}},\"marker\":{\"colorbar\":{\"outlinewidth\":0,\"ticks\":\"\"}},\"type\":\"scatter3d\"}],\"scattercarpet\":[{\"marker\":{\"colorbar\":{\"outlinewidth\":0,\"ticks\":\"\"}},\"type\":\"scattercarpet\"}],\"scattergeo\":[{\"marker\":{\"colorbar\":{\"outlinewidth\":0,\"ticks\":\"\"}},\"type\":\"scattergeo\"}],\"scattergl\":[{\"marker\":{\"line\":{\"color\":\"#283442\"}},\"type\":\"scattergl\"}],\"scattermapbox\":[{\"marker\":{\"colorbar\":{\"outlinewidth\":0,\"ticks\":\"\"}},\"type\":\"scattermapbox\"}],\"scatterpolargl\":[{\"marker\":{\"colorbar\":{\"outlinewidth\":0,\"ticks\":\"\"}},\"type\":\"scatterpolargl\"}],\"scatterpolar\":[{\"marker\":{\"colorbar\":{\"outlinewidth\":0,\"ticks\":\"\"}},\"type\":\"scatterpolar\"}],\"scatter\":[{\"marker\":{\"line\":{\"color\":\"#283442\"}},\"type\":\"scatter\"}],\"scatterternary\":[{\"marker\":{\"colorbar\":{\"outlinewidth\":0,\"ticks\":\"\"}},\"type\":\"scatterternary\"}],\"surface\":[{\"colorbar\":{\"outlinewidth\":0,\"ticks\":\"\"},\"colorscale\":[[0.0,\"#0d0887\"],[0.1111111111111111,\"#46039f\"],[0.2222222222222222,\"#7201a8\"],[0.3333333333333333,\"#9c179e\"],[0.4444444444444444,\"#bd3786\"],[0.5555555555555556,\"#d8576b\"],[0.6666666666666666,\"#ed7953\"],[0.7777777777777778,\"#fb9f3a\"],[0.8888888888888888,\"#fdca26\"],[1.0,\"#f0f921\"]],\"type\":\"surface\"}],\"table\":[{\"cells\":{\"fill\":{\"color\":\"#506784\"},\"line\":{\"color\":\"rgb(17,17,17)\"}},\"header\":{\"fill\":{\"color\":\"#2a3f5f\"},\"line\":{\"color\":\"rgb(17,17,17)\"}},\"type\":\"table\"}]},\"layout\":{\"annotationdefaults\":{\"arrowcolor\":\"#f2f5fa\",\"arrowhead\":0,\"arrowwidth\":1},\"autotypenumbers\":\"strict\",\"coloraxis\":{\"colorbar\":{\"outlinewidth\":0,\"ticks\":\"\"}},\"colorscale\":{\"diverging\":[[0,\"#8e0152\"],[0.1,\"#c51b7d\"],[0.2,\"#de77ae\"],[0.3,\"#f1b6da\"],[0.4,\"#fde0ef\"],[0.5,\"#f7f7f7\"],[0.6,\"#e6f5d0\"],[0.7,\"#b8e186\"],[0.8,\"#7fbc41\"],[0.9,\"#4d9221\"],[1,\"#276419\"]],\"sequential\":[[0.0,\"#0d0887\"],[0.1111111111111111,\"#46039f\"],[0.2222222222222222,\"#7201a8\"],[0.3333333333333333,\"#9c179e\"],[0.4444444444444444,\"#bd3786\"],[0.5555555555555556,\"#d8576b\"],[0.6666666666666666,\"#ed7953\"],[0.7777777777777778,\"#fb9f3a\"],[0.8888888888888888,\"#fdca26\"],[1.0,\"#f0f921\"]],\"sequentialminus\":[[0.0,\"#0d0887\"],[0.1111111111111111,\"#46039f\"],[0.2222222222222222,\"#7201a8\"],[0.3333333333333333,\"#9c179e\"],[0.4444444444444444,\"#bd3786\"],[0.5555555555555556,\"#d8576b\"],[0.6666666666666666,\"#ed7953\"],[0.7777777777777778,\"#fb9f3a\"],[0.8888888888888888,\"#fdca26\"],[1.0,\"#f0f921\"]]},\"colorway\":[\"#636efa\",\"#EF553B\",\"#00cc96\",\"#ab63fa\",\"#FFA15A\",\"#19d3f3\",\"#FF6692\",\"#B6E880\",\"#FF97FF\",\"#FECB52\"],\"font\":{\"color\":\"#f2f5fa\"},\"geo\":{\"bgcolor\":\"rgb(17,17,17)\",\"lakecolor\":\"rgb(17,17,17)\",\"landcolor\":\"rgb(17,17,17)\",\"showlakes\":true,\"showland\":true,\"subunitcolor\":\"#506784\"},\"hoverlabel\":{\"align\":\"left\"},\"hovermode\":\"closest\",\"mapbox\":{\"style\":\"dark\"},\"paper_bgcolor\":\"rgb(17,17,17)\",\"plot_bgcolor\":\"rgb(17,17,17)\",\"polar\":{\"angularaxis\":{\"gridcolor\":\"#506784\",\"linecolor\":\"#506784\",\"ticks\":\"\"},\"bgcolor\":\"rgb(17,17,17)\",\"radialaxis\":{\"gridcolor\":\"#506784\",\"linecolor\":\"#506784\",\"ticks\":\"\"}},\"scene\":{\"xaxis\":{\"backgroundcolor\":\"rgb(17,17,17)\",\"gridcolor\":\"#506784\",\"gridwidth\":2,\"linecolor\":\"#506784\",\"showbackground\":true,\"ticks\":\"\",\"zerolinecolor\":\"#C8D4E3\"},\"yaxis\":{\"backgroundcolor\":\"rgb(17,17,17)\",\"gridcolor\":\"#506784\",\"gridwidth\":2,\"linecolor\":\"#506784\",\"showbackground\":true,\"ticks\":\"\",\"zerolinecolor\":\"#C8D4E3\"},\"zaxis\":{\"backgroundcolor\":\"rgb(17,17,17)\",\"gridcolor\":\"#506784\",\"gridwidth\":2,\"linecolor\":\"#506784\",\"showbackground\":true,\"ticks\":\"\",\"zerolinecolor\":\"#C8D4E3\"}},\"shapedefaults\":{\"line\":{\"color\":\"#f2f5fa\"}},\"sliderdefaults\":{\"bgcolor\":\"#C8D4E3\",\"bordercolor\":\"rgb(17,17,17)\",\"borderwidth\":1,\"tickwidth\":0},\"ternary\":{\"aaxis\":{\"gridcolor\":\"#506784\",\"linecolor\":\"#506784\",\"ticks\":\"\"},\"baxis\":{\"gridcolor\":\"#506784\",\"linecolor\":\"#506784\",\"ticks\":\"\"},\"bgcolor\":\"rgb(17,17,17)\",\"caxis\":{\"gridcolor\":\"#506784\",\"linecolor\":\"#506784\",\"ticks\":\"\"}},\"title\":{\"x\":0.05},\"updatemenudefaults\":{\"bgcolor\":\"#506784\",\"borderwidth\":0},\"xaxis\":{\"automargin\":true,\"gridcolor\":\"#283442\",\"linecolor\":\"#506784\",\"ticks\":\"\",\"title\":{\"standoff\":15},\"zerolinecolor\":\"#283442\",\"zerolinewidth\":2},\"yaxis\":{\"automargin\":true,\"gridcolor\":\"#283442\",\"linecolor\":\"#506784\",\"ticks\":\"\",\"title\":{\"standoff\":15},\"zerolinecolor\":\"#283442\",\"zerolinewidth\":2}}},\"xaxis\":{\"anchor\":\"y\",\"domain\":[0.0,1.0],\"title\":{\"text\":\"Product Name\"},\"categoryorder\":\"array\",\"categoryarray\":[\"Dorito Corn Chp     Supreme 380g\",\"Smiths Crnkle Chip  Orgnl Big Bag 380g\",\"Smiths Crinkle Chips Salt & Vinegar 330g\"]},\"yaxis\":{\"anchor\":\"x\",\"domain\":[0.0,1.0],\"title\":{\"text\":\"Total Sales\"}},\"legend\":{\"title\":{\"text\":\"Product Name\"},\"tracegroupgap\":0},\"title\":{\"text\":\"Top 3 Most Profitable Products\"},\"barmode\":\"relative\",\"hovermode\":\"x unified\",\"showlegend\":false},                        {\"responsive\": true}                    ).then(function(){\n",
       "                            \n",
       "var gd = document.getElementById('7fdcc657-b3a9-4d85-bfa8-283479026bc9');\n",
       "var x = new MutationObserver(function (mutations, observer) {{\n",
       "        var display = window.getComputedStyle(gd).display;\n",
       "        if (!display || display === 'none') {{\n",
       "            console.log([gd, 'removed!']);\n",
       "            Plotly.purge(gd);\n",
       "            observer.disconnect();\n",
       "        }}\n",
       "}});\n",
       "\n",
       "// Listen for the removal of the full notebook cells\n",
       "var notebookContainer = gd.closest('#notebook-container');\n",
       "if (notebookContainer) {{\n",
       "    x.observe(notebookContainer, {childList: true});\n",
       "}}\n",
       "\n",
       "// Listen for the clearing of the current output cell\n",
       "var outputEl = gd.closest('.output');\n",
       "if (outputEl) {{\n",
       "    x.observe(outputEl, {childList: true});\n",
       "}}\n",
       "\n",
       "                        })                };                });            </script>        </div>"
      ]
     },
     "metadata": {},
     "output_type": "display_data"
    }
   ],
   "source": [
    "import plotly.express as px\n",
    "import pandas as pd\n",
    "\n",
    "# Group by product and sum total sales to determine profitability\n",
    "top_products = df.groupby('PROD_NAME')['TOT_SALES'].sum().nlargest(3).reset_index()\n",
    "\n",
    "fig = px.bar(\n",
    "    top_products, \n",
    "    x='PROD_NAME', \n",
    "    y='TOT_SALES', \n",
    "    color='PROD_NAME', \n",
    "    text='TOT_SALES', \n",
    "    labels={'PROD_NAME': 'Product Name', 'TOT_SALES': 'Total Sales'},\n",
    "    title=\"Top 3 Most Profitable Products\"\n",
    ")\n",
    "\n",
    "fig.update_traces(texttemplate='%{text:.2s}', textposition='outside', hoverinfo='x+y')\n",
    "fig.update_layout(\n",
    "    xaxis_title=\"Product Name\",\n",
    "    yaxis_title=\"Total Sales\",\n",
    "    title=\"Top 3 Most Profitable Products\",\n",
    "    template=\"plotly_dark\",\n",
    "    hovermode=\"x unified\",  \n",
    "    showlegend=False\n",
    ")\n",
    "\n",
    "fig.show()"
   ]
  },
  {
   "cell_type": "markdown",
   "id": "c4005736-be23-4563-9176-213168ac1fb7",
   "metadata": {},
   "source": [
    "### Top 3 Most Profitable Products\n",
    "- **Dorito Corn Chip Supreme 380g** is the top-selling product with **40k total sales**.                      \n",
    "- **Smiths Crinkle Chip Original Big Bag 380g** follows closely with **36k total sales**.                   \n",
    "- **Smiths Crinkle Chips Salt & Vinegar 330g** is the third highest, achieving **35k total sales**.\n",
    "\n",
    "- Dorito Corn Chip Supreme leads in profitability.\n",
    "- Smiths Crinkle Chips dominate two of the top three spots.\n",
    "- The sales gap among the top products is relatively small, indicating a competitive product lineup."
   ]
  },
  {
   "cell_type": "markdown",
   "id": "fae08946-5645-4521-a090-bf73d1ee2db6",
   "metadata": {},
   "source": [
    "## Customer Segmentation Based on Purchase Behavior"
   ]
  },
  {
   "cell_type": "code",
   "execution_count": 128,
   "id": "f57215e9-8899-44b4-a2ab-91b7675e619e",
   "metadata": {},
   "outputs": [
    {
     "data": {
      "image/png": "[encoded data removed]",
      "text/plain": [
       "<Figure size 1000x600 with 1 Axes>"
      ]
     },
     "metadata": {},
     "output_type": "display_data"
    }
   ],
   "source": [
    "# Count customers in each segment\n",
    "customer_segments = df.groupby(['LIFESTAGE', 'PREMIUM_CUSTOMER']).size().unstack()\n",
    "customer_segments.plot(kind='bar', stacked=True, figsize=(10,6), colormap='coolwarm')\n",
    "plt.xlabel(\"Lifestage\")\n",
    "plt.ylabel(\"Count of Customers\")\n",
    "plt.title(\"Customer Segmentation by Lifestage and Premium Status\")\n",
    "plt.legend(title=\"Premium Customer Status\")\n",
    "plt.show()"
   ]
  },
  {
   "cell_type": "markdown",
   "id": "076a6ecb-c8d2-46d5-a0a9-190da77527e8",
   "metadata": {},
   "source": [
    "### Older Families & Older Singles/Couples Drive Sales  \n",
    "- These groups dominate the customer base, making them **high-priority targets** for marketing efforts.  \n",
    "- Tailored **loyalty programs** and premium product offerings can maximize revenue from these segments.  \n",
    "\n",
    "### Premium Customers Represent a Significant Market Share \n",
    "- A large proportion of customers belong to the **premium category** across most lifestages.  \n",
    "- High-margin products and **exclusive premium deals** can further boost profitability.  \n",
    "\n",
    "### Young Singles & New Families Are Underrepresented \n",
    "- These groups have the lowest customer count, indicating a **growth opportunity**.  \n",
    "- **Discounted bundles, referral programs, and targeted social media ads** may attract more buyers.  \n",
    "\n",
    "### Budget Buyers Form a Strong Foundation \n",
    "- Many customers belong to the **budget segment**, suggesting affordability is a key decision factor.  \n",
    "- **Value-based promotions, discount offers, and budget-friendly product packs** can improve retention.  \n",
    "\n",
    "## **Strategic Recommendations**  \n",
    " **Prioritize Older Families & Singles/Couples** with personalized promotions & loyalty rewards.  \n",
    " **Expand Premium Offerings** to capitalize on high-value customers.  \n",
    " **Develop Young Family & Singles Engagement Plans** through tailored marketing campaigns.  \n",
    " **Strengthen Budget-Focused Promotions** to maintain steady sales volume."
   ]
  },
  {
   "cell_type": "markdown",
   "id": "b683bb1e-5693-4d77-b28f-477ebf140058",
   "metadata": {},
   "source": [
    "### Hypothesis: Why Do Loyal Customers Prefer Certain Products"
   ]
  },
  {
   "cell_type": "code",
   "execution_count": 114,
   "id": "3f528c70-583a-4b85-915a-03d499f625be",
   "metadata": {
    "scrolled": true
   },
   "outputs": [
    {
     "name": "stdout",
     "output_type": "stream",
     "text": [
      "Hypothesis 1: Loyal customers prefer premium products.\n",
      "No premium products found for loyal customers.\n",
      "\n",
      "Hypothesis 2: Loyal customers prefer practical, everyday products.\n",
      "No practical products found for loyal customers.\n",
      "\n",
      "Hypothesis 3: Loyal customers are likely to purchase the same products repeatedly.\n",
      "Top repeat purchase products:\n",
      "PROD_NAME\n",
      "Kettle Tortilla ChpsHny&Jlpno Chili 150g    1450\n",
      "Smiths Crnkle Chip  Orgnl Big Bag 380g      1449\n",
      "Tyrrells Crisps     Ched & Chives 165g      1446\n",
      "Tostitos Splash Of  Lime 175g               1443\n",
      "Smiths Crinkle Chips Salt & Vinegar 330g    1440\n",
      "Name: TXN_ID, dtype: int64\n",
      "\n",
      "Hypothesis 4: Loyal customers prefer products related to holidays/seasons.\n",
      "No holiday-related products found for loyal customers.\n",
      "\n"
     ]
    },
    {
     "data": {
      "image/png": "[encoded data removed]",
      "text/plain": [
       "<Figure size 1000x500 with 1 Axes>"
      ]
     },
     "metadata": {},
     "output_type": "display_data"
    }
   ],
   "source": [
    "# Identify loyal customers (customers with more than 5 purchases)\n",
    "loyal_customers = df.groupby('LYLTY_CARD_NBR').filter(lambda x: len(x) > 5)['LYLTY_CARD_NBR'].unique()\n",
    "\n",
    "# Identify the most purchased products by loyal customers\n",
    "loyal_product_pref = df[df['LYLTY_CARD_NBR'].isin(loyal_customers)] \\\n",
    "                     .groupby('PROD_NAME')['PROD_QTY'].sum().nlargest(5).reset_index()\n",
    "\n",
    "# Hypothesis Testing\n",
    "\n",
    "# Hypothesis 1: Loyal customers prefer premium products (electronics, luxury, high-end items)\n",
    "premium_product_keywords = ['Electronics', 'Luxury', 'High-End']\n",
    "loyal_premium_products = loyal_product_pref[loyal_product_pref['PROD_NAME']\n",
    "                                            .str.contains('|'.join(premium_product_keywords), case=False, na=False)]\n",
    "print(\"Hypothesis 1: Loyal customers prefer premium products.\")\n",
    "if not loyal_premium_products.empty:\n",
    "    print(f\"Top premium products preferred by loyal customers:\\n{loyal_premium_products}\\n\")\n",
    "else:\n",
    "    print(\"No premium products found for loyal customers.\\n\")\n",
    "\n",
    "# Hypothesis 2: Loyal customers prefer practical, everyday products (groceries, household, personal care)\n",
    "practical_product_keywords = ['Groceries', 'Household', 'Personal Care', 'Daily']\n",
    "loyal_practical_products = loyal_product_pref[loyal_product_pref['PROD_NAME']\n",
    "                                              .str.contains('|'.join(practical_product_keywords), case=False, na=False)]\n",
    "print(\"Hypothesis 2: Loyal customers prefer practical, everyday products.\")\n",
    "if not loyal_practical_products.empty:\n",
    "    print(f\"Top practical products preferred by loyal customers:\\n{loyal_practical_products}\\n\")\n",
    "else:\n",
    "    print(\"No practical products found for loyal customers.\\n\")\n",
    "\n",
    "# Hypothesis 3: Loyal customers are more likely to repurchase the same products\n",
    "repeat_purchase_products = df[df['LYLTY_CARD_NBR'].isin(loyal_customers)] \\\n",
    "                          .groupby('PROD_NAME')['TXN_ID'].count().nlargest(5)\n",
    "print(\"Hypothesis 3: Loyal customers are likely to purchase the same products repeatedly.\")\n",
    "print(f\"Top repeat purchase products:\\n{repeat_purchase_products}\\n\")\n",
    "\n",
    "# Hypothesis 4: Loyal customers prefer products related to holidays or seasons\n",
    "df['DATE'] = pd.to_datetime(df['DATE'])\n",
    "holiday_months = [11, 12]  # Assuming November & December for holiday sales\n",
    "holiday_season_products = df[df['DATE'].dt.month.isin(holiday_months)]\n",
    "loyal_holiday_products = holiday_season_products[holiday_season_products['LYLTY_CARD_NBR'].isin(loyal_customers)] \\\n",
    "                        .groupby('PROD_NAME')['PROD_QTY'].sum().nlargest(5)\n",
    "print(\"Hypothesis 4: Loyal customers prefer products related to holidays/seasons.\")\n",
    "if not loyal_holiday_products.empty:\n",
    "    print(f\"Top holiday-related products preferred by loyal customers:\\n{loyal_holiday_products}\\n\")\n",
    "else:\n",
    "    print(\"No holiday-related products found for loyal customers.\\n\")\n",
    "\n",
    "# Visualization: Top 5 Products Preferred by Loyal Customers\n",
    "plt.figure(figsize=(10, 5))\n",
    "sns.barplot(x='PROD_NAME', y='PROD_QTY', data=loyal_product_pref, hue='PROD_NAME', palette='coolwarm', legend=False)\n",
    "plt.xlabel(\"Product Name\")\n",
    "plt.ylabel(\"Total Quantity Purchased\")\n",
    "plt.title(\"Top 5 Products Preferred by Loyal Customers\")\n",
    "plt.xticks(rotation=45, ha='right')\n",
    "plt.show()"
   ]
  },
  {
   "cell_type": "markdown",
   "id": "5fcdae3e-95e9-4aa6-9644-05b12695f25d",
   "metadata": {},
   "source": [
    "### **Loyal Customer Purchase Analysis**\n",
    "\n",
    "## **Conclusions**\n",
    "1. **Premium Product Preference**  \n",
    "   - No premium products were found among the most purchased items by loyal customers.  \n",
    "   - Indicates that loyalty is not driven by high-end or luxury product purchases.\n",
    "\n",
    "2. **Practical, Everyday Product Preference**  \n",
    "   - No strong correlation between loyal customers and essential household or grocery items.  \n",
    "   - Suggests that loyalty is influenced by other factors such as brand affinity or specific tastes.\n",
    "\n",
    "3. **Repeat Purchase Behavior**  \n",
    "   - Loyal customers show a high tendency to repurchase the same snack products.  \n",
    "   - **Top repeated purchases:**  \n",
    "     - Kettle Tortilla Chips Honey & Jalapeno 150g  \n",
    "     - Smiths Crinkle Chip Original Big Bag 380g  \n",
    "     - Tyrrells Crisps Cheddar & Chives 165g  \n",
    "     - Tostitos Splash Of Lime 175g  \n",
    "     - Smiths Crinkle Chips Salt & Vinegar 330g  \n",
    "   - Indicates strong brand preference and product satisfaction.\n",
    "\n",
    "4. **Seasonal/Holiday Influence**  \n",
    "   - No significant evidence of a seasonal preference among loyal customers.  \n",
    "   - Suggests that loyalty is **not** linked to seasonal promotions or festive purchasing trends.\n",
    "\n",
    "### **Business Insights**\n",
    "#### **1. Strengthen Brand Loyalty Programs**  \n",
    "   - Implement **personalized loyalty rewards** targeting customers who frequently buy the same products.\n",
    "   - Offer **discounts, exclusive deals, or early access** to new flavors for returning customers.\n",
    "\n",
    "#### **2. Expand Product Offerings in Popular Categories**  \n",
    "   - Since snack items dominate loyal customer purchases, consider expanding **variety within chips and crisps**.\n",
    "   - Introduce **new flavors or limited-edition products** to maintain engagement.\n",
    "\n",
    "#### **3. Optimize Marketing Strategies**  \n",
    "   - Focus advertising campaigns on best-selling items to enhance visibility.\n",
    "   - Use **customer testimonials and social proof** to reinforce brand preference.\n",
    "\n",
    "#### **4. Cross-Selling and Upselling Opportunities**  \n",
    "   - Bundle top-selling snack items with complementary products (e.g., dips, beverages).  \n",
    "   - Recommend **higher-margin alternatives** or bulk packaging for frequent buyers.\n",
    "\n",
    "#### **5. Seasonal Promotions Are Less Critical**  \n",
    "   - Since seasonal trends do not significantly impact loyal customer purchases, prioritize **year-round engagement strategies** over time-sensitive campaigns."
   ]
  },
  {
   "cell_type": "code",
   "execution_count": null,
   "id": "552736de-7b7d-45af-bdf5-0dde4b6516ca",
   "metadata": {},
   "outputs": [],
   "source": []
  }
 ],
 "metadata": {
  "kernelspec": {
   "display_name": "Python [conda env:base] *",
   "language": "python",
   "name": "conda-base-py"
  },
  "language_info": {
   "codemirror_mode": {
    "name": "ipython",
    "version": 3
   },
   "file_extension": ".py",
   "mimetype": "text/x-python",
   "name": "python",
   "nbconvert_exporter": "python",
   "pygments_lexer": "ipython3",
   "version": "3.12.7"
  }
 },
 "nbformat": 4,
 "nbformat_minor": 5
}
